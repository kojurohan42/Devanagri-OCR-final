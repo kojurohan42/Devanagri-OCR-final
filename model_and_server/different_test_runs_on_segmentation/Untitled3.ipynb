{
 "cells": [
  {
   "cell_type": "code",
   "execution_count": 5,
   "id": "d6701633",
   "metadata": {},
   "outputs": [
    {
     "ename": "error",
     "evalue": "OpenCV(4.7.0) /io/opencv/modules/imgproc/src/color.cpp:182: error: (-215:Assertion failed) !_src.empty() in function 'cvtColor'\n",
     "output_type": "error",
     "traceback": [
      "\u001b[0;31m---------------------------------------------------------------------------\u001b[0m",
      "\u001b[0;31merror\u001b[0m                                     Traceback (most recent call last)",
      "Cell \u001b[0;32mIn[5], line 11\u001b[0m\n\u001b[1;32m      8\u001b[0m Images \u001b[38;5;241m=\u001b[39m \u001b[38;5;28msorted\u001b[39m(os\u001b[38;5;241m.\u001b[39mlistdir(Path), key\u001b[38;5;241m=\u001b[39m\u001b[38;5;28;01mlambda\u001b[39;00m x: \u001b[38;5;28mint\u001b[39m(os\u001b[38;5;241m.\u001b[39mpath\u001b[38;5;241m.\u001b[39msplitext(x)[\u001b[38;5;241m0\u001b[39m]))\n\u001b[1;32m     10\u001b[0m \u001b[38;5;28;01mfor\u001b[39;00m Image_Name \u001b[38;5;129;01min\u001b[39;00m Images:\n\u001b[0;32m---> 11\u001b[0m     Words \u001b[38;5;241m=\u001b[39m \u001b[43mSplit_Words\u001b[49m\u001b[38;5;241;43m.\u001b[39;49m\u001b[43mSplit\u001b[49m\u001b[43m(\u001b[49m\u001b[43mcv2\u001b[49m\u001b[38;5;241;43m.\u001b[39;49m\u001b[43mimread\u001b[49m\u001b[43m(\u001b[49m\u001b[43mos\u001b[49m\u001b[38;5;241;43m.\u001b[39;49m\u001b[43mpath\u001b[49m\u001b[38;5;241;43m.\u001b[39;49m\u001b[43mjoin\u001b[49m\u001b[43m(\u001b[49m\u001b[43mPath\u001b[49m\u001b[43m,\u001b[49m\u001b[43m \u001b[49m\u001b[43mImage_Name\u001b[49m\u001b[43m)\u001b[49m\u001b[43m)\u001b[49m\u001b[43m)\u001b[49m\n\u001b[1;32m     12\u001b[0m     Characters \u001b[38;5;241m=\u001b[39m Split_Characters\u001b[38;5;241m.\u001b[39mSplit(Words)\n\u001b[1;32m     13\u001b[0m     \u001b[38;5;66;03m# Predictions = Predict_Characters.Predict(Characters)\u001b[39;00m\n\u001b[1;32m     14\u001b[0m \n\u001b[1;32m     15\u001b[0m     \u001b[38;5;66;03m# Words = []\u001b[39;00m\n\u001b[0;32m   (...)\u001b[0m\n\u001b[1;32m     20\u001b[0m \n\u001b[1;32m     21\u001b[0m     \u001b[38;5;66;03m# print(Words)\u001b[39;00m\n",
      "File \u001b[0;32m~/Desktop/project/final devnagari ocr final/Split_Words.py:139\u001b[0m, in \u001b[0;36mSplit\u001b[0;34m(Image)\u001b[0m\n\u001b[1;32m    136\u001b[0m \u001b[38;5;28;01mfor\u001b[39;00m x, y, w, h \u001b[38;5;129;01min\u001b[39;00m bounding_rects:\n\u001b[1;32m    137\u001b[0m     crop \u001b[38;5;241m=\u001b[39m Image[y:y \u001b[38;5;241m+\u001b[39m h, x:x \u001b[38;5;241m+\u001b[39m w]\n\u001b[0;32m--> 139\u001b[0m     gray \u001b[38;5;241m=\u001b[39m \u001b[43mcv2\u001b[49m\u001b[38;5;241;43m.\u001b[39;49m\u001b[43mcvtColor\u001b[49m\u001b[43m(\u001b[49m\u001b[43mcrop\u001b[49m\u001b[43m,\u001b[49m\u001b[43m \u001b[49m\u001b[43mcv2\u001b[49m\u001b[38;5;241;43m.\u001b[39;49m\u001b[43mCOLOR_BGR2GRAY\u001b[49m\u001b[43m)\u001b[49m\n\u001b[1;32m    140\u001b[0m     \u001b[38;5;66;03m# plt.imshow(gray)\u001b[39;00m\n\u001b[1;32m    141\u001b[0m     \u001b[38;5;66;03m# plt.show()\u001b[39;00m\n\u001b[1;32m    142\u001b[0m     \u001b[38;5;66;03m# cv2.imshow('gerya',gray)\u001b[39;00m\n\u001b[1;32m    144\u001b[0m     kernel \u001b[38;5;241m=\u001b[39m cv2\u001b[38;5;241m.\u001b[39mgetStructuringElement(cv2\u001b[38;5;241m.\u001b[39mMORPH_ELLIPSE, (\u001b[38;5;241m25\u001b[39m, \u001b[38;5;241m25\u001b[39m))\n",
      "\u001b[0;31merror\u001b[0m: OpenCV(4.7.0) /io/opencv/modules/imgproc/src/color.cpp:182: error: (-215:Assertion failed) !_src.empty() in function 'cvtColor'\n"
     ]
    }
   ],
   "source": [
    "import os\n",
    "import cv2\n",
    "\n",
    "import Split_Words\n",
    "import Split_Characters\n",
    "\n",
    "Path = 'two_test_case'\n",
    "Images = sorted(os.listdir(Path), key=lambda x: int(os.path.splitext(x)[0]))\n",
    "\n",
    "for Image_Name in Images:\n",
    "    Words = Split_Words.Split(cv2.imread(os.path.join(Path, Image_Name)))\n",
    "    Characters = Split_Characters.Split(Words)\n",
    "    # Predictions = Predict_Characters.Predict(Characters)\n",
    "\n",
    "    # Words = []\n",
    "    # for Prediction in Predictions:\n",
    "    #     Word = ''.join(Prediction)\n",
    "    #     Words.append(Word)\n",
    "    # Words = ' '.join(Words)\n",
    "\n",
    "    # print(Words)\n"
   ]
  },
  {
   "cell_type": "code",
   "execution_count": null,
   "id": "9b1eadb6",
   "metadata": {},
   "outputs": [],
   "source": []
  }
 ],
 "metadata": {
  "kernelspec": {
   "display_name": "Python 3 (ipykernel)",
   "language": "python",
   "name": "python3"
  },
  "language_info": {
   "codemirror_mode": {
    "name": "ipython",
    "version": 3
   },
   "file_extension": ".py",
   "mimetype": "text/x-python",
   "name": "python",
   "nbconvert_exporter": "python",
   "pygments_lexer": "ipython3",
   "version": "3.10.6"
  }
 },
 "nbformat": 4,
 "nbformat_minor": 5
}
